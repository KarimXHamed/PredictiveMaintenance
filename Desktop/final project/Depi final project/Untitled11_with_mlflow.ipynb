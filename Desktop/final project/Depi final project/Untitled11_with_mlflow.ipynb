{
 "cells": [
  {
   "cell_type": "markdown",
   "metadata": {
    "id": "SlWAE0KPzbi0"
   },
   "source": [
    "# ✈Predictive Maintenance for Aircraft Engines Using NASA's Turbofan Dataset"
   ]
  },
  {
   "cell_type": "code",
   "execution_count": null,
   "metadata": {
    "colab": {
     "base_uri": "https://localhost:8080/",
     "height": 662
    },
    "id": "I1rYZ5h1-wa0",
    "outputId": "741bc127-8ae2-4a79-ba3b-cbc3afec4440"
   },
   "outputs": [],
   "source": [
    "from IPython.display import display, Markdown\n",
    "import base64\n",
    "\n",
    "with open('/content/engine.png', \"rb\") as img_file:\n",
    "    img_base64 = base64.b64encode(img_file.read()).decode('utf-8')\n",
    "\n",
    "# انسخ المخرجات لاستخدامها في الخطوة التالية\n",
    "display(Markdown(f'<img src=\"data:image/jpeg;base64,{img_base64}\" width=\"900\" style=\"display:block; margin:auto\">'))"
   ]
  },
  {
   "cell_type": "markdown",
   "metadata": {
    "id": "FH3OgIVpHdB-"
   },
   "source": [
    "<pre style=\"font-family: Arial; background-color: #F5F5F5; color: #000080; padding: 10px; font-size: 14px; line-height: 1.5;\">\n",
    "<h2 style=\"color: #1a237e; border-bottom: 1px solid #1a237e;\">Predictive Maintenance for Aircraft Engines</h2>\n",
    "\n",
    "<b>Project Overview:</b>\n",
    "Our intelligent predictive maintenance system utilizes NASA's Turbofan Engine Degradation Simulation Dataset (CMAPSS) to forecast engine failures. By analyzing sensor data patterns, we predict the Remaining Useful Life (RUL) of turbofan engines, enabling:\n",
    "\n",
    "• Proactive maintenance scheduling\n",
    "• 30-50% reduction in unplanned downtime\n",
    "• Optimal spare parts inventory management\n",
    "• Enhanced flight safety metrics\n",
    "\n",
    "<b>Dataset Structure:</b>\n",
    "1. <b>Engine Metadata</b>:\n",
    "   - 'unit_number': Unique engine identifier\n",
    "   - 'time_cycles': Operational cycles elapsed (1 cycle = 1 flight)\n",
    "\n",
    "2. <b>Operational Settings</b>:\n",
    "   - 'altitude': Flight altitude (feet)\n",
    "   - 'mach_number': Speed relative to sound (Mach)\n",
    "   - 'throttle_resolver_angle': Throttle position (degrees)\n",
    "\n",
    "3. <b>Thermal Monitoring System:</b>\n",
    "    1. <u>Temperature Sensors</u>:\n",
    "      • 'fan_inlet_temp': Fan inlet temperature (°C) - Measures initial air intake temp\n",
    "      • 'LPC_outlet_temp': Low Pressure Compressor exit temp (°C) - Critical for compression efficiency\n",
    "      • 'HPC_outlet_temp': High Pressure Compressor exit temp (°C) - Indicates combustion readiness\n",
    "      • 'LPT_outlet_temp': Low Pressure Turbine exhaust temp (°C) - Key performance indicator\n",
    "      • 'compressor_discharge_temp': Compressor stage exit temp (°C) - Reflects compression heating\n",
    "      • 'HPT_outlet_temp': High Pressure Turbine exhaust temp (°C) - Critical for turbine health\n",
    "\n",
    "    <b>Pressure Analysis System:</b>\n",
    "    2. <u>Pressure Sensors</u>:\n",
    "      • 'fan_inlet_pressure': Fan intake pressure (psi) - Baseline for airflow\n",
    "      • 'bypass_duct_pressure': Bypass duct static pressure (psi) - Measures bypass airflow\n",
    "      • 'HPC_outlet_pressure': Compressor delivery pressure (psi) - Combustion chamber input\n",
    "      • 'HPC_outlet_static_pressure': Compressor static pressure (psi) - Alternative measurement\n",
    "      • 'compressor_discharge_pressure': Compressor output pressure (psi) - System health indicator\n",
    "\n",
    "    <b>Mechanical Performance System:</b>\n",
    "    3. <u>Speed & Rotation Sensors</u>:\n",
    "      • 'physical_fan_speed': Actual fan RPM - Core thrust parameter\n",
    "      • 'physical_core_speed': Core shaft RPM - Power generation basis\n",
    "      • 'corrected_fan_speed': Normalized fan speed (rpm) - Altitude-compensated\n",
    "      • 'corrected_core_speed': Normalized core speed (rpm) - Standardized metric\n",
    "\n",
    "    <b>Fluid Dynamics System:</b>\n",
    "    4. <u>Flow & Ratio Sensors</u>:\n",
    "      • 'engine_pressure_ratio': P50/P2 ratio - Thrust measurement\n",
    "      • 'fuel_flow_ratio': Fuel-to-pressure ratio (pps/psi) - Combustion efficiency\n",
    "      • 'bypass_ratio': Bypass to core flow ratio - Engine type characteristic\n",
    "      • 'burner_fuel_air_ratio': Combustion stoichiometry - Emission control\n",
    "\n",
    "    <b>Thermodynamic Analysis:</b>\n",
    "    5. <u>Energy Measurement Sensors</u>:\n",
    "      • 'HPT_bleed_enthalpy': High Pressure Turbine energy extraction\n",
    "      • 'LPT_bleed_enthalpy': Low Pressure Turbine energy extraction\n",
    "\n",
    "    <h3 style=\"color: #1a237e;\">Operational Context:</h3>\n",
    "    • All temperatures monitored in Celsius (°C)\n",
    "    • Pressure measurements in PSI (pounds per square inch)\n",
    "    • Speed measurements in RPM (revolutions per minute)\n",
    "    • Ratios are dimensionless performance indicators\n",
    "\n",
    "    <h3 style=\"color: #1a237e;\">Diagnostic Value:</h3>\n",
    "    • <span style=\"color: #d32f2f;\">High temperature deviations</span> indicate cooling system issues\n",
    "    • <span style=\"color: #d32f2f;\">Pressure anomalies</span> suggest airflow blockages\n",
    "    • <span style=\"color: #d32f2f;\">Speed fluctuations</span> reveal mechanical wear\n",
    "    • <span style=\"color: #d32f2f;\">Ratio variations</span> detect combustion problems\n",
    "\n",
    "<b>Technical Methodology:</b>\n",
    "<u>Machine Learning Pipeline:</u>\n",
    "1. <b>Data Preprocessing</b>:\n",
    "   - Time-series normalization\n",
    "   - Sensor fusion techniques\n",
    "   - Degradation trend extraction\n",
    "\n",
    "2. <b>Core Algorithms</b>:\n",
    "   • LSTM Neural Networks: For temporal pattern recognition\n",
    "   • Survival Analysis: For probabilistic failure forecasting\n",
    "   • Gradient Boosting: For feature importance ranking\n",
    "\n",
    "3. <b>Output Predictions</b>:\n",
    "   - RUL (in operational cycles)\n",
    "   - Failure probability windows\n",
    "   - Critical sensor alert thresholds\n",
    "\n",
    "<b>Implementation Benefits:</b>\n",
    "✓ 25-40% maintenance cost reduction\n",
    "✓ 60% improvement in early fault detection\n",
    "✓ Real-time monitoring compatibility\n",
    "✓ Adaptable to various engine types\n",
    "</pre>"
   ]
  },
  {
   "cell_type": "markdown",
   "metadata": {
    "id": "OZc17MyTEfCd"
   },
   "source": [
    "# 📝Check List: <a name=\"Check-List\"></a>\n",
    "1. [📚 Importing Libraries](#importing-libraries)\n",
    "2. [📂 Loading Data](#loading-data)\n",
    "3. [🔍 Discovering Data](#discovering-data)\n",
    "   - [❓ Missing Values](#missing-values)\n",
    "   - [🔄 Duplicates](#duplicates)\n",
    "4. [📊 EDA](#eda)\n",
    "   - [⭕ Categorical Columns](#categorical-columns)\n",
    "   - [🔢 Numerical Columns](#numerical-columns)\n",
    "   - [⏰ Time Columns](#time-columns)\n",
    "5. [🛠️ Feature Engineering](#feature-engineering)\n",
    "   - [⚖️ Scaling](#scaling)\n",
    "   - [🗑️ Dropping Unimportant Columns](#dropping-unimportant-columns-1)\n",
    "   - [🔬 PCA](#pca)\n",
    "6. [📂 Splitting Data](#splitting-data)\n",
    "7. [⚙️ Initialize estimators and hyperparameters](#initialize-estimators-and-hyperparameters)\n",
    "8. [📅 Grid Search CV](#grid-search-cv)\n",
    "9. [🎯 Randomized Search CV](#randomized-search-cv)\n",
    "10. [📈 The best Model Training](#the-best-model-training)\n",
    "11. [💾 Saving the model](#saving-the-model)\n",
    "12. [🧪 Test Data Preparation](#test-data-preparation)\n",
    "13. [🔄 Load the Model and Predict the Test Data](#load-the-model-and-predict-the-test-data)"
   ]
  },
  {
   "cell_type": "markdown",
   "metadata": {
    "id": "GrOUQ0FDEoLW"
   },
   "source": [
    "## 📚 Importing Libraries <a name=\"importing-libraries\"></a>"
   ]
  },
  {
   "cell_type": "code",
   "execution_count": null,
   "id": "09fba7e8",
   "metadata": {},
   "outputs": [],
   "source": [
    "\n",
    "# ✅ MLflow Setup: This block sets up tracking for experiment management\n",
    "import mlflow\n",
    "import mlflow.keras\n",
    "# Create a new MLflow experiment\n",
    "experiment_id = mlflow.create_experiment(\n",
    "    name=\"Aircraft_Engine_RUL_Prediction\",  # Name of the experiment\n",
    "    artifact_location=\"./mlruns/Aircraft_Engine_RUL_Prediction_artifacts\",  # Updated location\n",
    "    tags={\"env\": \"dev\", \"version\": \"1.0.0\"}  # Metadata tags for the experiment\n",
    ")\n"
   ]
  },
  {
   "cell_type": "code",
   "execution_count": null,
   "metadata": {
    "id": "mX-oUOo6EsHN"
   },
   "outputs": [],
   "source": [
    "import pandas as pd\n",
    "import numpy as np\n",
    "import matplotlib.pyplot as plt\n",
    "import seaborn as sns\n",
    "%matplotlib inline"
   ]
  },
  {
   "cell_type": "code",
   "execution_count": null,
   "metadata": {
    "id": "NKtanPdooBHA"
   },
   "outputs": [],
   "source": [
    "# 📊 Splitting the data into training and test sets\n",
    "from sklearn.preprocessing import StandardScaler\n",
    "from scipy.stats import uniform, randint\n",
    "from sklearn.ensemble import GradientBoostingRegressor, RandomForestRegressor\n",
    "from xgboost import XGBRegressor\n",
    "from sklearn.model_selection import GridSearchCV, RandomizedSearchCV, train_test_split\n",
    "from sklearn.metrics import mean_squared_error, mean_absolute_error, r2_score, roc_auc_score\n",
    "from sklearn.metrics import accuracy_score,confusion_matrix,classification_report"
   ]
  },
  {
   "cell_type": "code",
   "execution_count": null,
   "metadata": {
    "id": "DiedcH7VE1It"
   },
   "outputs": [],
   "source": [
    "from sklearn.pipeline import Pipeline\n",
    "import joblib"
   ]
  },
  {
   "cell_type": "markdown",
   "metadata": {
    "id": "vpEzq8dUE9ZN"
   },
   "source": [
    "[📝Check List](#Check-List)"
   ]
  },
  {
   "cell_type": "code",
   "execution_count": null,
   "metadata": {
    "id": "aIlb3aC9nMsD"
   },
   "outputs": [],
   "source": []
  },
  {
   "cell_type": "markdown",
   "metadata": {
    "id": "MiJ5a0DMFIUF"
   },
   "source": [
    "## 📂 Loading Data <a name=\"loading-data\"></a>"
   ]
  },
  {
   "cell_type": "code",
   "execution_count": null,
   "metadata": {
    "colab": {
     "base_uri": "https://localhost:8080/",
     "height": 193
    },
    "id": "PCXSlUgwOnzx",
    "outputId": "a7f836a8-ce23-48ed-c73c-6ae2956f8c0f"
   },
   "outputs": [],
   "source": [
    "# define column names for easy indexing\n",
    "column_names = ['unit_number', 'time_cycles', 'op_setting_1', 'op_setting_2', 'op_setting_3'] + [f'sensor_{i}' for i in range(1, 22)]\n",
    "\n",
    "# Load Data\n",
    "train_df = pd.read_csv('train_FD001.txt', sep='\\s+', header=None, names=column_names)\n",
    "\n",
    "# Display first 3 rows\n",
    "train_df.head(3)\n"
   ]
  },
  {
   "cell_type": "markdown",
   "metadata": {
    "id": "Zj8xs7KnLBpf"
   },
   "source": [
    "[📝Check List](#Check-List)"
   ]
  },
  {
   "cell_type": "code",
   "execution_count": null,
   "metadata": {
    "id": "uX-Mkq-WnLzz"
   },
   "outputs": [],
   "source": []
  },
  {
   "cell_type": "markdown",
   "metadata": {
    "id": "mlFphUdULI82"
   },
   "source": [
    "# 🔍 Discovering Data <a name=\"discovering-data\"></a>"
   ]
  },
  {
   "cell_type": "code",
   "execution_count": null,
   "metadata": {
    "colab": {
     "base_uri": "https://localhost:8080/"
    },
    "id": "VlQ2DVIXleeS",
    "outputId": "7dc09b28-73cc-4fb6-d8d3-d1419b535e07"
   },
   "outputs": [],
   "source": [
    "train_df.shape"
   ]
  },
  {
   "cell_type": "code",
   "execution_count": null,
   "metadata": {
    "colab": {
     "base_uri": "https://localhost:8080/"
    },
    "id": "WziC_6CxLOy_",
    "outputId": "7c576184-8325-4992-8481-e471e58b989d"
   },
   "outputs": [],
   "source": [
    "train_df.columns"
   ]
  },
  {
   "cell_type": "code",
   "execution_count": null,
   "metadata": {
    "id": "yKewzH-QQ1U2"
   },
   "outputs": [],
   "source": [
    "# Calculate RUL for training data\n",
    "def calculate_rul(df):\n",
    "    # Group by engine ID and find max cycles for each engine\n",
    "    max_cycles = df.groupby('unit_number')['time_cycles'].max().reset_index()\n",
    "    max_cycles.columns = ['unit_number', 'max_cycles']\n",
    "\n",
    "    # Merge with original data to compute RUL\n",
    "    df = df.merge(max_cycles, on='unit_number', how='left')\n",
    "    df['RUL'] = df['max_cycles'] - df['time_cycles']\n",
    "\n",
    "    # Drop the temporary column\n",
    "    df.drop('max_cycles', axis=1, inplace=True)\n",
    "    return df\n",
    "\n",
    "# Apply to training data\n",
    "train_df = calculate_rul(train_df)"
   ]
  },
  {
   "cell_type": "code",
   "execution_count": null,
   "metadata": {
    "colab": {
     "base_uri": "https://localhost:8080/"
    },
    "id": "GGPMht4okuOP",
    "outputId": "c42436bf-b379-4202-c6a9-004b59efa705"
   },
   "outputs": [],
   "source": [
    "train_df.columns"
   ]
  },
  {
   "cell_type": "code",
   "execution_count": null,
   "metadata": {
    "id": "qvJu2_AcGmv1"
   },
   "outputs": [],
   "source": []
  },
  {
   "cell_type": "code",
   "execution_count": null,
   "metadata": {
    "colab": {
     "base_uri": "https://localhost:8080/",
     "height": 350
    },
    "id": "4Qq5wdVlmWhK",
    "outputId": "db5fd948-f873-49e1-a400-b8a7e434a550"
   },
   "outputs": [],
   "source": [
    "train_df.describe()"
   ]
  },
  {
   "cell_type": "code",
   "execution_count": null,
   "metadata": {
    "colab": {
     "base_uri": "https://localhost:8080/"
    },
    "id": "8sozVwe1LP0s",
    "outputId": "756a6547-0b3f-48e0-d30a-5a56a1b0ddde"
   },
   "outputs": [],
   "source": [
    "train_df.info()"
   ]
  },
  {
   "cell_type": "code",
   "execution_count": null,
   "metadata": {
    "colab": {
     "base_uri": "https://localhost:8080/"
    },
    "id": "yWPTwwymrSFa",
    "outputId": "a4ec555b-a41b-4324-fc4e-617f7e1cbfe6"
   },
   "outputs": [],
   "source": [
    "train_df['unit_number'].unique()"
   ]
  },
  {
   "cell_type": "code",
   "execution_count": null,
   "metadata": {
    "id": "OEXoFDIOrG3K"
   },
   "outputs": [],
   "source": [
    "train_df['unit_number'] = train_df['unit_number'].astype('category')"
   ]
  },
  {
   "cell_type": "code",
   "execution_count": null,
   "metadata": {
    "colab": {
     "base_uri": "https://localhost:8080/"
    },
    "id": "BlosnoD6rizC",
    "outputId": "02ee69db-5abd-45cb-b690-caf6f2149639"
   },
   "outputs": [],
   "source": [
    "train_df['unit_number'].unique()"
   ]
  },
  {
   "cell_type": "markdown",
   "metadata": {
    "id": "Eath9WLPPHFf"
   },
   "source": [
    "[📝Check List](#Check-List)"
   ]
  },
  {
   "cell_type": "code",
   "execution_count": null,
   "metadata": {
    "id": "j-svUosrnKK4"
   },
   "outputs": [],
   "source": []
  },
  {
   "cell_type": "markdown",
   "metadata": {
    "id": "BMtRcUsCPRy9"
   },
   "source": [
    "## ❓ Missing Values <a name=\"missing-values\"></a>"
   ]
  },
  {
   "cell_type": "code",
   "execution_count": null,
   "metadata": {
    "colab": {
     "base_uri": "https://localhost:8080/",
     "height": 931
    },
    "id": "vfeY-HsVPW3Q",
    "outputId": "70c84567-830b-4019-df2d-7922f9e463e1"
   },
   "outputs": [],
   "source": [
    "train_df.isna().sum()"
   ]
  },
  {
   "cell_type": "markdown",
   "metadata": {
    "id": "6zwtc7xzPkmp"
   },
   "source": [
    "[📝Check List](#Check-List)"
   ]
  },
  {
   "cell_type": "code",
   "execution_count": null,
   "metadata": {
    "id": "pYehXJLrnJCZ"
   },
   "outputs": [],
   "source": []
  },
  {
   "cell_type": "markdown",
   "metadata": {
    "id": "fFYGVXYBPt_j"
   },
   "source": [
    "## 🔄 Duplicates <a name=\"duplicates\"></a>"
   ]
  },
  {
   "cell_type": "code",
   "execution_count": null,
   "metadata": {
    "colab": {
     "base_uri": "https://localhost:8080/"
    },
    "id": "Iwy6D7cJPvpL",
    "outputId": "005b8a51-7d97-4ca4-eb30-ed97408510e3"
   },
   "outputs": [],
   "source": [
    "train_df.duplicated().sum()"
   ]
  },
  {
   "cell_type": "markdown",
   "metadata": {
    "id": "lYVoWldqQ-8g"
   },
   "source": [
    "[📝Check List](#Check-List)"
   ]
  },
  {
   "cell_type": "code",
   "execution_count": null,
   "metadata": {
    "id": "sEkCmitJnIIE"
   },
   "outputs": [],
   "source": []
  },
  {
   "cell_type": "markdown",
   "metadata": {
    "id": "N4LGZTGgQ_yY"
   },
   "source": [
    "# 📊 EDA <a name=\"eda\"></a>"
   ]
  },
  {
   "cell_type": "markdown",
   "metadata": {
    "id": "Tn2nZ9HSREdt"
   },
   "source": [
    "## ⭕ Categorical Columns <a name=\"categorical-columns\"></a>"
   ]
  },
  {
   "cell_type": "code",
   "execution_count": null,
   "metadata": {
    "colab": {
     "base_uri": "https://localhost:8080/"
    },
    "id": "t1roX4_YP-_e",
    "outputId": "cc7f6d0a-1910-4ea8-a446-dac6d6dd8f82"
   },
   "outputs": [],
   "source": [
    "train_df['unit_number'].nunique()"
   ]
  },
  {
   "cell_type": "code",
   "execution_count": null,
   "metadata": {
    "colab": {
     "base_uri": "https://localhost:8080/",
     "height": 490
    },
    "id": "SR0oAUvURw3o",
    "outputId": "7abda869-8dad-4200-a958-e8bf6a2b6a6f"
   },
   "outputs": [],
   "source": [
    "train_df['unit_number'].value_counts()"
   ]
  },
  {
   "cell_type": "code",
   "execution_count": null,
   "metadata": {
    "colab": {
     "base_uri": "https://localhost:8080/",
     "height": 460
    },
    "id": "GqZce5s3R3Dv",
    "outputId": "c232c55f-e54d-48a4-e764-ff27082d976e"
   },
   "outputs": [],
   "source": [
    "# Plotting Count Plot for first 10 engines\n",
    "plt.figure(figsize=(12,6))\n",
    "ax = sns.countplot(data=train_df, x='unit_number', order=train_df['unit_number'].value_counts().index[:10])\n",
    "\n",
    "# Set labels and title for the plot\n",
    "plt.xlabel('Engine Unit ID')\n",
    "plt.ylabel('Flight Count')\n",
    "plt.title('Top 10 Engines by Flight Count')\n",
    "plt.xticks(rotation=45)\n",
    "\n",
    "# Display numbers on the plot\n",
    "for p in ax.patches:\n",
    "    ax.annotate(int(p.get_height()), (p.get_x()+0.25, p.get_height()+1), va='bottom', color='black')\n",
    "\n",
    "# Display the plot\n",
    "plt.tight_layout()\n",
    "plt.show()"
   ]
  },
  {
   "cell_type": "code",
   "execution_count": null,
   "metadata": {
    "id": "4C6kX72GuX4k"
   },
   "outputs": [],
   "source": [
    "top_5_units = train_df['unit_number'].value_counts().head(5).index.tolist()"
   ]
  },
  {
   "cell_type": "code",
   "execution_count": null,
   "metadata": {
    "id": "MXMBxb82uZU3"
   },
   "outputs": [],
   "source": [
    "top_5_data = train_df[train_df['unit_number'].isin(top_5_units)]"
   ]
  },
  {
   "cell_type": "code",
   "execution_count": null,
   "metadata": {
    "colab": {
     "base_uri": "https://localhost:8080/"
    },
    "id": "0nuaJu-jwuAU",
    "outputId": "ebf12b41-9be2-4ca3-955f-b5da29435375"
   },
   "outputs": [],
   "source": [
    "top_5_data['unit_number'].unique()"
   ]
  },
  {
   "cell_type": "code",
   "execution_count": null,
   "metadata": {
    "colab": {
     "base_uri": "https://localhost:8080/",
     "height": 524
    },
    "id": "KC-xzocnykSM",
    "outputId": "0ec155a3-c5d0-4fe4-95d3-d4a9a90366eb"
   },
   "outputs": [],
   "source": [
    "plt.figure(figsize=(14, 8))\n",
    "sns.set_style(\"whitegrid\")\n",
    "\n",
    "# Get the top 5 units explicitly\n",
    "top_5_units = train_df['unit_number'].value_counts().head(5).index.tolist()\n",
    "top_5_data = train_df[train_df['unit_number'].isin(top_5_units)]\n",
    "\n",
    "# Plot with legend control\n",
    "ax = sns.lineplot(data=top_5_data, x='time_cycles', y='RUL', hue='unit_number',\n",
    "                 palette='viridis', linewidth=2.5,\n",
    "                 hue_order=top_5_units)  # This ensures only these 5 appear in legend\n",
    "\n",
    "# Customize legend\n",
    "plt.legend(title='Engine Unit', title_fontsize=12,\n",
    "           labels=[f'Unit {i}' for i in top_5_units])\n",
    "\n",
    "# Add titles and formatting\n",
    "plt.title('RUL Progression Over Time for Top 5 Most Frequent Engines', fontsize=16, pad=20)\n",
    "plt.xlabel('Time Cycles', fontsize=12)\n",
    "plt.ylabel('Remaining Useful Life (RUL)', fontsize=12)\n",
    "\n",
    "# Add failure threshold line\n",
    "plt.axhline(y=0, color='red', linestyle='--', alpha=0.5)\n",
    "\n",
    "plt.tight_layout()\n",
    "plt.show()"
   ]
  },
  {
   "cell_type": "markdown",
   "metadata": {
    "id": "z0B5rspkWMyI"
   },
   "source": [
    "[📝Check List](#Check-List)"
   ]
  },
  {
   "cell_type": "code",
   "execution_count": null,
   "metadata": {
    "id": "1QunouGvnGXZ"
   },
   "outputs": [],
   "source": []
  },
  {
   "cell_type": "markdown",
   "metadata": {
    "id": "EWteFLbeWP0V"
   },
   "source": [
    "## 🔢 Numerical Columns <a name=\"numerical-columns\"></a>"
   ]
  },
  {
   "cell_type": "code",
   "execution_count": null,
   "metadata": {
    "colab": {
     "base_uri": "https://localhost:8080/"
    },
    "id": "fREoOBUGWUpm",
    "outputId": "6e454dff-5b6e-4d39-c323-5b884ce27c82"
   },
   "outputs": [],
   "source": [
    "numeric_cols = train_df.select_dtypes(include=['float32', 'float64', 'int16', 'int32', 'int64']).columns\n",
    "numeric_cols"
   ]
  },
  {
   "cell_type": "code",
   "execution_count": null,
   "metadata": {
    "colab": {
     "base_uri": "https://localhost:8080/",
     "height": 1000
    },
    "id": "_poqZsxoWUrV",
    "outputId": "0c206cd7-c7fc-4614-9658-f9b8a5c5915e"
   },
   "outputs": [],
   "source": [
    "import matplotlib.pyplot as plt\n",
    "import seaborn as sns\n",
    "\n",
    "for col in numeric_cols:\n",
    "    plt.figure(figsize=(10, 4))\n",
    "    sns.histplot(train_df[col], kde=True, bins=30)\n",
    "    plt.title(f'Distribution of {col}')\n",
    "    plt.show()"
   ]
  },
  {
   "cell_type": "markdown",
   "metadata": {
    "id": "wQAVVKFUWapl"
   },
   "source": [
    "[📝Check List](#Check-List)"
   ]
  },
  {
   "cell_type": "code",
   "execution_count": null,
   "metadata": {
    "id": "FBVZsUC5WUsw"
   },
   "outputs": [],
   "source": []
  },
  {
   "cell_type": "markdown",
   "metadata": {
    "id": "jPb1BSEPWf_9"
   },
   "source": [
    "## ⏰ Time Columns <a name=\"time-columns\"></a>"
   ]
  },
  {
   "cell_type": "code",
   "execution_count": null,
   "metadata": {
    "colab": {
     "base_uri": "https://localhost:8080/",
     "height": 424
    },
    "id": "sH5eoiiSWg9U",
    "outputId": "4d2013f7-2c57-4bf7-cb14-6db34f89d7c2"
   },
   "outputs": [],
   "source": [
    "# Total cycles per engine\n",
    "cycle_counts = train_df.groupby('unit_number')['time_cycles'].max()\n",
    "\n",
    "plt.figure(figsize=(12, 4))\n",
    "plt.subplot(121)\n",
    "sns.histplot(cycle_counts, bins=30, kde=True)\n",
    "plt.title('Distribution of Engine Lifespans (Cycles)')\n",
    "\n",
    "plt.subplot(122)\n",
    "sns.boxplot(x=cycle_counts)\n",
    "plt.title('Boxplot of Engine Lifetimes')\n",
    "plt.show()"
   ]
  },
  {
   "cell_type": "code",
   "execution_count": null,
   "metadata": {
    "colab": {
     "base_uri": "https://localhost:8080/",
     "height": 564
    },
    "id": "oWpN4C5aWg_J",
    "outputId": "83dc3b06-e4c7-4b76-abb9-43ff1c672295"
   },
   "outputs": [],
   "source": [
    "# Plot sensor trends for a random engine\n",
    "engine_id = 5\n",
    "engine_data = train_df[train_df['unit_number'] == engine_id]\n",
    "\n",
    "plt.figure(figsize=(10, 6))\n",
    "for sensor in ['sensor_4', 'sensor_17', 'sensor_9', 'sensor_9']:  # Key sensors from PCA\n",
    "    plt.plot(engine_data['time_cycles'], engine_data[sensor], label=sensor)\n",
    "plt.xlabel('Time Cycles')\n",
    "plt.ylabel('Sensor Value')\n",
    "plt.title(f'Engine {engine_id} Degradation Patterns')\n",
    "plt.legend()\n",
    "plt.show()"
   ]
  },
  {
   "cell_type": "markdown",
   "metadata": {
    "id": "gTnPJXC2WhbN"
   },
   "source": [
    "[📝Check List](#Check-List)"
   ]
  },
  {
   "cell_type": "code",
   "execution_count": null,
   "metadata": {
    "id": "vGXEwUgtnBj4"
   },
   "outputs": [],
   "source": []
  },
  {
   "cell_type": "markdown",
   "metadata": {
    "id": "FD6D7zpLgzZ9"
   },
   "source": [
    "# 🛠️ Feature Engineering <a name=\"feature-engineering\"></a>"
   ]
  },
  {
   "cell_type": "code",
   "execution_count": null,
   "metadata": {
    "colab": {
     "base_uri": "https://localhost:8080/",
     "height": 256
    },
    "id": "N10IHxPMg2bC",
    "outputId": "82064d98-6fe5-4602-b794-dc3b9c50398d"
   },
   "outputs": [],
   "source": [
    "train_df.head()"
   ]
  },
  {
   "cell_type": "code",
   "execution_count": null,
   "metadata": {
    "id": "iXZmhEGL_kNe"
   },
   "outputs": [],
   "source": []
  },
  {
   "cell_type": "markdown",
   "metadata": {
    "id": "ezfMsJg7g8ho"
   },
   "source": [
    "#### ⚖️ Scaling <a name=\"scaling\"></a>"
   ]
  },
  {
   "cell_type": "code",
   "execution_count": null,
   "metadata": {
    "id": "oGc6ivPsg9Vx"
   },
   "outputs": [],
   "source": [
    "# scaler object\n",
    "sc = StandardScaler()"
   ]
  },
  {
   "cell_type": "code",
   "execution_count": null,
   "metadata": {
    "id": "apR3rtG35EQN"
   },
   "outputs": [],
   "source": [
    "# Separate non-feature columns (metadata)\n",
    "non_scaled_cols = ['unit_number', 'time_cycles', 'RUL']  # Keep these unchanged\n",
    "features_to_scale = [col for col in train_df.columns if col not in non_scaled_cols]"
   ]
  },
  {
   "cell_type": "code",
   "execution_count": null,
   "metadata": {
    "id": "CQXahrcZ4iAM"
   },
   "outputs": [],
   "source": [
    "# Scale features\n",
    "train_df[features_to_scale] = sc.fit_transform(train_df[features_to_scale])"
   ]
  },
  {
   "cell_type": "code",
   "execution_count": null,
   "metadata": {
    "colab": {
     "base_uri": "https://localhost:8080/",
     "height": 342
    },
    "id": "qhrXe1EqhMDI",
    "outputId": "dcc22fb8-b509-4ec5-a0fc-b2d12c166e93"
   },
   "outputs": [],
   "source": [
    "train_df.head()"
   ]
  },
  {
   "cell_type": "code",
   "execution_count": null,
   "metadata": {
    "id": "9nyUucZgAvQ_"
   },
   "outputs": [],
   "source": []
  },
  {
   "cell_type": "markdown",
   "metadata": {
    "id": "7Uqw2IrhhiU2"
   },
   "source": [
    "# 🔬 PCA <a name=\"pca\"></a>"
   ]
  },
  {
   "cell_type": "code",
   "execution_count": null,
   "metadata": {
    "colab": {
     "base_uri": "https://localhost:8080/"
    },
    "id": "g69mO421Q1SF",
    "outputId": "ac7815c6-e799-4931-c659-58fac17a9724"
   },
   "outputs": [],
   "source": [
    "train_df.columns"
   ]
  },
  {
   "cell_type": "code",
   "execution_count": null,
   "metadata": {
    "id": "zZR8AJyLH9Ef"
   },
   "outputs": [],
   "source": [
    "from sklearn.decomposition import PCA"
   ]
  },
  {
   "cell_type": "code",
   "execution_count": null,
   "metadata": {
    "id": "8fWmBw81H983"
   },
   "outputs": [],
   "source": [
    "pca = PCA(n_components=4)"
   ]
  },
  {
   "cell_type": "code",
   "execution_count": null,
   "metadata": {
    "colab": {
     "base_uri": "https://localhost:8080/"
    },
    "id": "6iTyZuAYIAVu",
    "outputId": "69287566-925f-411e-cc29-e7e8517f2abf"
   },
   "outputs": [],
   "source": [
    "pca.fit_transform(train_df)"
   ]
  },
  {
   "cell_type": "code",
   "execution_count": null,
   "metadata": {
    "colab": {
     "base_uri": "https://localhost:8080/"
    },
    "id": "Bsi0XQ2cICmO",
    "outputId": "865810ec-f02e-4be7-e849-4dfcdc013c58"
   },
   "outputs": [],
   "source": [
    "pca.explained_variance_ratio_"
   ]
  },
  {
   "cell_type": "code",
   "execution_count": null,
   "metadata": {
    "colab": {
     "base_uri": "https://localhost:8080/",
     "height": 245
    },
    "id": "iUmHpoMEIFk-",
    "outputId": "aed1892c-9b13-43e1-ab77-03da7f5b09ef"
   },
   "outputs": [],
   "source": [
    "df_pca = pd.DataFrame(pca.components_, columns=train_df.columns)\n",
    "df_pca.head(3)"
   ]
  },
  {
   "cell_type": "code",
   "execution_count": null,
   "metadata": {
    "colab": {
     "base_uri": "https://localhost:8080/",
     "height": 931
    },
    "id": "ZJgYyTgMj3Hy",
    "outputId": "987f4d72-1ebc-413e-fce2-8c6babe5fb82"
   },
   "outputs": [],
   "source": [
    "loadings_abs = np.abs(pca.components_)\n",
    "\n",
    "feature_importance = pd.Series(loadings_abs.sum(axis=0), index=df_pca.columns)\n",
    "\n",
    "sorted_features = feature_importance.sort_values(ascending=False)\n",
    "sorted_features"
   ]
  },
  {
   "cell_type": "code",
   "execution_count": null,
   "metadata": {
    "colab": {
     "base_uri": "https://localhost:8080/",
     "height": 206
    },
    "id": "1RUdXhKblOdl",
    "outputId": "97c2689a-2743-4764-8a5f-f45eab1bf805"
   },
   "outputs": [],
   "source": [
    "n_top_features = 10\n",
    "selected_columns = sorted_features.head(n_top_features).index\n",
    "\n",
    "reduced_df = train_df[selected_columns]\n",
    "\n",
    "reduced_df.head()"
   ]
  },
  {
   "cell_type": "code",
   "execution_count": null,
   "metadata": {
    "colab": {
     "base_uri": "https://localhost:8080/"
    },
    "id": "GCF2saqNoBxz",
    "outputId": "b2a279b6-73f6-4347-a5a8-59abb1c47f8c"
   },
   "outputs": [],
   "source": [
    "reduced_df['unit_number'].unique()"
   ]
  },
  {
   "cell_type": "code",
   "execution_count": null,
   "metadata": {
    "colab": {
     "base_uri": "https://localhost:8080/",
     "height": 472
    },
    "id": "XUfK1ExhoB1T",
    "outputId": "d8f3e404-1b0b-42a2-ad73-f5aca6c26e30"
   },
   "outputs": [],
   "source": [
    "# Plot RUL degradation for one engine\n",
    "engine_id = 1\n",
    "engine_data = reduced_df[reduced_df['unit_number'] == engine_id]\n",
    "\n",
    "plt.plot(engine_data['time_cycles'], engine_data['RUL'])\n",
    "plt.xlabel('Time Cycles')\n",
    "plt.ylabel('Remaining Useful Life (RUL)')\n",
    "plt.title(f'Engine {engine_id} Degradation')\n",
    "plt.show()"
   ]
  },
  {
   "cell_type": "code",
   "execution_count": null,
   "metadata": {
    "colab": {
     "base_uri": "https://localhost:8080/",
     "height": 504
    },
    "id": "gcdYr4J1R371",
    "outputId": "4da98b95-27ef-49f4-ec0d-2453342dfa88"
   },
   "outputs": [],
   "source": [
    "df_max_rul = reduced_df[['unit_number', 'RUL']].groupby('unit_number').max().reset_index()\n",
    "df_max_rul['RUL'].hist(bins=15, figsize=(15,7))\n",
    "plt.xlabel('RUL')\n",
    "plt.ylabel('frequency')\n",
    "plt.show()"
   ]
  },
  {
   "cell_type": "markdown",
   "metadata": {
    "id": "F1rP9kZ3hlxB"
   },
   "source": [
    "[📝Check List](#Check-List)"
   ]
  },
  {
   "cell_type": "code",
   "execution_count": null,
   "metadata": {
    "id": "GcdmaJCxm8jL"
   },
   "outputs": [],
   "source": []
  },
  {
   "cell_type": "markdown",
   "metadata": {
    "id": "7RJjirx4hmpY"
   },
   "source": [
    "## 📂 Splitting Data <a name=\"splitting-data\"></a>"
   ]
  },
  {
   "cell_type": "code",
   "execution_count": null,
   "metadata": {
    "id": "MgrZfMiChpMj"
   },
   "outputs": [],
   "source": [
    "# Feature Extraction\n",
    "X = reduced_df.drop('RUL', axis=1).values\n",
    "y = reduced_df['RUL'].values"
   ]
  },
  {
   "cell_type": "code",
   "execution_count": null,
   "metadata": {
    "colab": {
     "base_uri": "https://localhost:8080/"
    },
    "id": "3MT6VlmShrzi",
    "outputId": "a5938e92-1619-46f9-d1d9-a0f3e6dfa8ff"
   },
   "outputs": [],
   "source": [
    "# 📊 Splitting the data into training and test sets\n",
    "X_train, X_test, y_train, y_test = train_test_split(X, y, test_size=0.1, random_state=42)\n",
    "print(X_train.shape)\n",
    "print(X_test.shape)"
   ]
  },
  {
   "cell_type": "markdown",
   "metadata": {
    "id": "rk1j-pEhhw5G"
   },
   "source": [
    "[📝Check List](#Check-List)"
   ]
  },
  {
   "cell_type": "code",
   "execution_count": null,
   "metadata": {
    "id": "k1tARUYMm7bu"
   },
   "outputs": [],
   "source": []
  },
  {
   "cell_type": "markdown",
   "metadata": {
    "id": "3jP65i21hx7b"
   },
   "source": [
    "# ⚙️ Initialize estimators and hyperparameters <a name=\"initialize-estimators-and-hyperparameters\"></a>"
   ]
  },
  {
   "cell_type": "code",
   "execution_count": null,
   "metadata": {
    "id": "MBPvaxYAh1O3"
   },
   "outputs": [],
   "source": [
    "\n",
    "# Initialize the estimators\n",
    "reg1 = GradientBoostingRegressor()\n",
    "reg2 = RandomForestRegressor()\n",
    "reg3 = XGBRegressor()"
   ]
  },
  {
   "cell_type": "code",
   "execution_count": null,
   "metadata": {
    "id": "JRjESwNwlpUW"
   },
   "outputs": [],
   "source": [
    "# Initialize the hyperparameters\n",
    "\n",
    "# Gradient Boosting\n",
    "param1 = {}\n",
    "param1['regressor'] = [reg1]\n",
    "param1['regressor__max_depth'] = [3, 4, 5, 6, 7, 8, 9, 10]\n",
    "param1['regressor__n_estimators'] = [50, 100, 150, 200, 250, 300]\n",
    "param1['regressor__learning_rate'] = list(np.round(np.linspace(0.01, 0.3, 20), 3))\n",
    "param1['regressor__subsample'] = list(np.round(np.linspace(0.6, 1.0, 10), 2))\n",
    "param1['regressor__max_features'] = ['sqrt', None]\n",
    "param1['regressor__min_samples_split'] = [2, 3, 4, 5, 6, 7, 8, 9, 10]\n",
    "param1['regressor__min_samples_leaf'] = [1, 2, 3, 4, 5, 6, 7, 8, 9, 10]\n",
    "\n",
    "# RandomForest\n",
    "param2 = {}\n",
    "param2['regressor'] = [reg2]\n",
    "param2['regressor__n_estimators'] = [50, 100, 150, 200, 250, 300]\n",
    "param2['regressor__max_depth'] = [None, 3, 4, 5, 6, 7, 8, 9, 10, 11, 12, 13, 14, 15]\n",
    "param2['regressor__min_samples_split'] = [2, 3, 4, 5, 6, 7, 8, 9, 10]\n",
    "param2['regressor__min_samples_leaf'] = [1, 2, 3, 4, 5, 6, 7, 8, 9, 10]\n",
    "param2['regressor__max_features'] = ['sqrt', 'log2', None]\n",
    "param2['regressor__bootstrap'] = [True, False]\n",
    "\n",
    "# XGBRegressor\n",
    "param3 = {}\n",
    "param3['regressor'] = [reg3]\n",
    "param3['regressor__max_depth'] = [3, 4, 5, 6, 7, 8, 9, 10]\n",
    "param3['regressor__n_estimators'] = [50, 100, 150, 200, 250, 300]\n",
    "param3['regressor__learning_rate'] = list(np.round(np.linspace(0.01, 0.3, 20), 3))\n",
    "param3['regressor__subsample'] = list(np.round(np.linspace(0.6, 1.0, 10), 2))\n",
    "param3['regressor__colsample_bytree'] = list(np.round(np.linspace(0.6, 1.0, 10), 2))\n",
    "param3['regressor__gamma'] = list(np.round(np.linspace(0, 0.3, 10), 2))\n",
    "param3['regressor__reg_alpha'] = list(np.round(np.linspace(0, 1, 10), 2))\n",
    "param3['regressor__reg_lambda'] = list(np.round(np.linspace(0, 1, 10), 2))"
   ]
  },
  {
   "cell_type": "code",
   "execution_count": null,
   "metadata": {
    "id": "v5Ew3GaDh4-y"
   },
   "outputs": [],
   "source": [
    "\n",
    "pipeline = Pipeline([('regressor', reg1)])\n",
    "params = [param1, param2, param3]\n"
   ]
  },
  {
   "cell_type": "markdown",
   "metadata": {
    "id": "YyoCvec-h-lY"
   },
   "source": [
    "[📝Check List](#Check-List)"
   ]
  },
  {
   "cell_type": "markdown",
   "metadata": {
    "id": "Axo_mSrTh_Jp"
   },
   "source": [
    "# 📅 Grid Search CV <a name=\"grid-search-cv\"></a>"
   ]
  },
  {
   "cell_type": "code",
   "execution_count": null,
   "metadata": {
    "id": "01HA3oHQiECh"
   },
   "outputs": [],
   "source": [
    "%%time\n",
    "# Perform grid search cross-validation\n",
    "grid = GridSearchCV(pipeline, params, cv=3, scoring='r2').fit(X_train, y_train)"
   ]
  },
  {
   "cell_type": "code",
   "execution_count": null,
   "metadata": {
    "id": "4Q9KJlaSiGWj"
   },
   "outputs": [],
   "source": [
    "# Best performing model and its corresponding hyperparameters\n",
    "grid.best_params_"
   ]
  },
  {
   "cell_type": "code",
   "execution_count": null,
   "metadata": {
    "id": "TbZTziyoiIwA"
   },
   "outputs": [],
   "source": [
    "# r2 score for the best model\n",
    "grid.best_score_"
   ]
  },
  {
   "cell_type": "markdown",
   "metadata": {
    "id": "9H0Kox9eiMVQ"
   },
   "source": [
    "[📝Check List](#Check-List)"
   ]
  },
  {
   "cell_type": "markdown",
   "metadata": {
    "id": "fA0bOOn8iOjJ"
   },
   "source": [
    "# 🎯 Randomized Search CV <a name=\"randomized-search-cv\"></a>"
   ]
  },
  {
   "cell_type": "code",
   "execution_count": null,
   "metadata": {
    "id": "cS3nTQFJiQ6p"
   },
   "outputs": [],
   "source": [
    "%%time\n",
    "# Perform randomized search cross-validation\n",
    "rs = RandomizedSearchCV(pipeline, params, cv=3, scoring='r2', n_iter=50, random_state=42).fit(X_train, y_train)"
   ]
  },
  {
   "cell_type": "code",
   "execution_count": null,
   "metadata": {
    "id": "nRMa2pYciRs6"
   },
   "outputs": [],
   "source": [
    "# Best performing model and its corresponding hyperparameters\n",
    "rs.best_params_"
   ]
  },
  {
   "cell_type": "code",
   "execution_count": null,
   "metadata": {
    "id": "_VbQ5fhuiVRc"
   },
   "outputs": [],
   "source": [
    "# r2 score for the best model\n",
    "rs.best_score_"
   ]
  },
  {
   "cell_type": "markdown",
   "metadata": {
    "id": "4ClncMl7iYHA"
   },
   "source": [
    "[📝Check List](#Check-List)"
   ]
  },
  {
   "cell_type": "code",
   "execution_count": null,
   "metadata": {
    "id": "PeRfzZDrq-TD"
   },
   "outputs": [],
   "source": []
  },
  {
   "cell_type": "markdown",
   "metadata": {
    "id": "OW8UfG-jiYw5"
   },
   "source": [
    "# 📈 The best Model Training <a name=\"the-best-model-training\"></a>"
   ]
  },
  {
   "cell_type": "code",
   "execution_count": null,
   "metadata": {
    "id": "lRMPmwGZibcw"
   },
   "outputs": [],
   "source": [
    "model_xgb = XGBRegressor(\n",
    "    learning_rate=0.147,\n",
    "    max_depth=8,\n",
    "    n_estimators=250,\n",
    "    subsample=0.82,\n",
    "    reg_lambda=0.11,        #(L2 regularization)\n",
    "    reg_alpha=0.22,          #(L1 regularization)\n",
    "    gamma=0.27,              #(min split loss)\n",
    "    colsample_bytree=1.0,\n",
    "    objective='reg:squarederror',\n",
    "    random_state=42,\n",
    "    n_jobs=-1\n",
    ")"
   ]
  },
  {
   "cell_type": "code",
   "execution_count": null,
   "metadata": {
    "colab": {
     "base_uri": "https://localhost:8080/",
     "height": 254
    },
    "id": "Mgi5PYWjqU89",
    "outputId": "795140da-b80b-46a9-cb61-09c9727e43a7"
   },
   "outputs": [],
   "source": [
    "# 🎯 Training the model and tracking with MLflow\n",
    "with mlflow.start_run():\n",
    "    mlflow.log_param('epochs', 50)\n",
    "    mlflow.log_param('batch_size', 64)\n",
    "    mlflow.log_param('model_type', 'LSTM')\n",
    "\n",
    "    # Fit the model\n",
    "    history = model_xgb.fit(X_train, y_train, validation_split=0.2, epochs=50, batch_size=64, callbacks=[early_stopping], verbose=1)\n",
    "\n",
    "    # Log training loss and validation loss\n",
    "    mlflow.log_metric('train_loss', history.history['loss'][-1])\n",
    "    mlflow.log_metric('val_loss', history.history['val_loss'][-1])\n",
    "    mlflow.keras.log_model(model_xgb, 'model_xgb')\n"
   ]
  },
  {
   "cell_type": "code",
   "execution_count": null,
   "metadata": {
    "id": "4iCXBKiYqSkd"
   },
   "outputs": [],
   "source": [
    "y_pred_xgb = model_xgb.predict(X_test)"
   ]
  },
  {
   "cell_type": "code",
   "execution_count": null,
   "metadata": {
    "colab": {
     "base_uri": "https://localhost:8080/"
    },
    "id": "Ixgaxyh6qQ6e",
    "outputId": "3be1ec18-e3f9-4f5e-aa01-0f359fb27046"
   },
   "outputs": [],
   "source": [
    "print(f\"MAE: {mean_absolute_error(y_test, y_pred_xgb):.2f}\")\n",
    "print(f\"MSE: {mean_squared_error(y_test, y_pred_xgb):.2f}\")\n",
    "print(f\"R² Score: {r2_score(y_test, y_pred_xgb):.2f}\")"
   ]
  },
  {
   "cell_type": "code",
   "execution_count": null,
   "metadata": {
    "id": "nGq7PFYEDCtl"
   },
   "outputs": [],
   "source": []
  },
  {
   "cell_type": "code",
   "execution_count": null,
   "metadata": {
    "id": "grtYXZ3UDCzF"
   },
   "outputs": [],
   "source": [
    "model_rf = RandomForestRegressor(\n",
    "    n_estimators=250,\n",
    "    max_depth=8,\n",
    "    random_state=42,\n",
    "    n_jobs=-1\n",
    ")"
   ]
  },
  {
   "cell_type": "code",
   "execution_count": null,
   "metadata": {},
   "outputs": [],
   "source": [
    "# 🎯 Training the model and tracking with MLflow\n",
    "with mlflow.start_run():\n",
    "    mlflow.log_param('epochs', 50)\n",
    "    mlflow.log_param('batch_size', 64)\n",
    "    mlflow.log_param('model_type', 'LSTM')\n",
    "\n",
    "    # Fit the model\n",
    "    history = model_rf.fit(X_train, y_train, validation_split=0.2, epochs=50, batch_size=64, callbacks=[early_stopping], verbose=1)\n",
    "\n",
    "    # Log training loss and validation loss\n",
    "    mlflow.log_metric('train_loss', history.history['loss'][-1])\n",
    "    mlflow.log_metric('val_loss', history.history['val_loss'][-1])\n",
    "    mlflow.keras.log_model(model_rf, 'model_rf')\n"
   ]
  },
  {
   "cell_type": "code",
   "execution_count": null,
   "metadata": {
    "id": "RjIcqnCDDEGw"
   },
   "outputs": [],
   "source": [
    "y_pred_rf = model_rf.predict(X_test)"
   ]
  },
  {
   "cell_type": "code",
   "execution_count": null,
   "metadata": {
    "colab": {
     "base_uri": "https://localhost:8080/"
    },
    "id": "AL15BbhXEqAx",
    "outputId": "146058d6-bf32-4c7e-8ab4-ace11ad4dcdb"
   },
   "outputs": [],
   "source": [
    "print(f\"MAE: {mean_absolute_error(y_test, y_pred_rf):.2f}\")\n",
    "print(f\"MSE: {mean_squared_error(y_test, y_pred_rf):.2f}\")\n",
    "print(f\"R² Score: {r2_score(y_test, y_pred_rf):.2f}\")"
   ]
  },
  {
   "cell_type": "markdown",
   "metadata": {
    "id": "tWtlmY-KihcB"
   },
   "source": [
    "[📝Check List](#Check-List)"
   ]
  },
  {
   "cell_type": "code",
   "execution_count": null,
   "metadata": {
    "id": "B2k5YtZcq8yc"
   },
   "outputs": [],
   "source": []
  },
  {
   "cell_type": "markdown",
   "metadata": {
    "id": "qq7PYfyGijx5"
   },
   "source": [
    "# 💾 Saving the model <a name=\"saving-the-model\"></a>"
   ]
  },
  {
   "cell_type": "code",
   "execution_count": null,
   "metadata": {
    "colab": {
     "base_uri": "https://localhost:8080/"
    },
    "id": "jmZ5YkZbipXp",
    "outputId": "170e9d30-519f-412d-c4af-7b49d4a11ae5"
   },
   "outputs": [],
   "source": [
    "joblib.dump(model_xgb, 'xgb_model.p')"
   ]
  },
  {
   "cell_type": "code",
   "execution_count": null,
   "metadata": {
    "colab": {
     "base_uri": "https://localhost:8080/"
    },
    "id": "ii02ODA7Ek3o",
    "outputId": "a7a08ab6-a60c-49d7-9a16-f03f34170f0c"
   },
   "outputs": [],
   "source": [
    "joblib.dump(model_rf, \"rf_model.pkl\")"
   ]
  },
  {
   "cell_type": "markdown",
   "metadata": {
    "id": "6DITClcxisYx"
   },
   "source": [
    "[📝Check List](#Check-List)"
   ]
  },
  {
   "cell_type": "markdown",
   "metadata": {
    "id": "EsgYWoRUixLM"
   },
   "source": [
    "# 🧪 Test Data Preparation <a name=\"test-data-preparation\"></a>"
   ]
  },
  {
   "cell_type": "code",
   "execution_count": null,
   "metadata": {
    "id": "sgr8ja7Miwao"
   },
   "outputs": [],
   "source": [
    "test_df = pd.read_csv('test_FD001.txt', sep='\\s+', header=None, names=column_names)"
   ]
  },
  {
   "cell_type": "code",
   "execution_count": null,
   "metadata": {
    "colab": {
     "base_uri": "https://localhost:8080/",
     "height": 256
    },
    "id": "8R7tpEFQiwds",
    "outputId": "c7bc73e0-3f38-44e2-ce14-ac22198e3656"
   },
   "outputs": [],
   "source": [
    "test_df.head()"
   ]
  },
  {
   "cell_type": "markdown",
   "metadata": {
    "id": "i9rzvlooi6rh"
   },
   "source": [
    "# 🔍Discovering Data"
   ]
  },
  {
   "cell_type": "code",
   "execution_count": null,
   "metadata": {
    "colab": {
     "base_uri": "https://localhost:8080/"
    },
    "id": "viABgrbGllKD",
    "outputId": "43962509-6761-4359-fe73-d9e35cdf2ed8"
   },
   "outputs": [],
   "source": [
    "test_df.shape"
   ]
  },
  {
   "cell_type": "code",
   "execution_count": null,
   "metadata": {
    "colab": {
     "base_uri": "https://localhost:8080/"
    },
    "id": "OzvOt243iwgl",
    "outputId": "31a6dfbb-c3be-44e8-b69a-7410ef8fe350"
   },
   "outputs": [],
   "source": [
    "test_df.columns"
   ]
  },
  {
   "cell_type": "code",
   "execution_count": null,
   "metadata": {
    "colab": {
     "base_uri": "https://localhost:8080/"
    },
    "id": "uMrypVuUiwjc",
    "outputId": "e5cfdd94-efe8-4b08-8c3d-4469ed33653a"
   },
   "outputs": [],
   "source": [
    "test_df.info()"
   ]
  },
  {
   "cell_type": "markdown",
   "metadata": {
    "id": "4_mOOstPjCoE"
   },
   "source": [
    "## ❓Missing Values"
   ]
  },
  {
   "cell_type": "code",
   "execution_count": null,
   "metadata": {
    "colab": {
     "base_uri": "https://localhost:8080/",
     "height": 899
    },
    "id": "lfIyoR1TiwmW",
    "outputId": "57090f01-bb2b-4a8c-ab4a-d17c24faf75f"
   },
   "outputs": [],
   "source": [
    "test_df.isna().sum()"
   ]
  },
  {
   "cell_type": "markdown",
   "metadata": {
    "id": "uY6f31RvjIBJ"
   },
   "source": [
    "## 🔄Duplicates"
   ]
  },
  {
   "cell_type": "code",
   "execution_count": null,
   "metadata": {
    "colab": {
     "base_uri": "https://localhost:8080/"
    },
    "id": "USJt25T1jI8B",
    "outputId": "898eccc6-17ca-4eba-891b-0f0ff86f2c69"
   },
   "outputs": [],
   "source": [
    "test_df.duplicated().sum()"
   ]
  },
  {
   "cell_type": "code",
   "execution_count": null,
   "metadata": {
    "id": "102KbKZejLHo"
   },
   "outputs": [],
   "source": []
  },
  {
   "cell_type": "markdown",
   "metadata": {
    "id": "u1QimG-ejWcG"
   },
   "source": [
    "# 🛠️Feature Engineering"
   ]
  },
  {
   "cell_type": "markdown",
   "metadata": {
    "id": "QhSyaNEXjaly"
   },
   "source": [
    "#### ⚖️ Scaling"
   ]
  },
  {
   "cell_type": "code",
   "execution_count": null,
   "metadata": {
    "id": "l9EVFGSZsVdp"
   },
   "outputs": [],
   "source": [
    "# Separate non-feature columns (metadata)\n",
    "non_scaled_cols = ['unit_number', 'time_cycles', 'RUL']  # Keep these unchanged\n",
    "features_to_scale = [col for col in test_df.columns if col not in non_scaled_cols]"
   ]
  },
  {
   "cell_type": "code",
   "execution_count": null,
   "metadata": {
    "id": "AGkUpojSsVdp"
   },
   "outputs": [],
   "source": [
    "# Scale features\n",
    "test_df[features_to_scale] = sc.fit_transform(test_df[features_to_scale])"
   ]
  },
  {
   "cell_type": "code",
   "execution_count": null,
   "metadata": {
    "colab": {
     "base_uri": "https://localhost:8080/",
     "height": 342
    },
    "id": "EzI7H8GtsVdq",
    "outputId": "18307407-7b69-45c3-9ea0-d87afec86ddb"
   },
   "outputs": [],
   "source": [
    "test_df.head()"
   ]
  },
  {
   "cell_type": "code",
   "execution_count": null,
   "metadata": {
    "id": "6Pf3oO2jsgJl"
   },
   "outputs": [],
   "source": []
  },
  {
   "cell_type": "code",
   "execution_count": null,
   "metadata": {
    "colab": {
     "base_uri": "https://localhost:8080/",
     "height": 206
    },
    "id": "KkOhBEJesgbV",
    "outputId": "9cd744d2-e4eb-470b-e9df-9b854a5e349c"
   },
   "outputs": [],
   "source": [
    "test_df = test_df[selected_columns.drop('RUL')]\n",
    "\n",
    "test_df.head()"
   ]
  },
  {
   "cell_type": "markdown",
   "metadata": {
    "id": "BxUZLc5Ojhzi"
   },
   "source": [
    "[📝Check List](#Check-List)"
   ]
  },
  {
   "cell_type": "markdown",
   "metadata": {
    "id": "MVaHL4BfjiZR"
   },
   "source": [
    "# 🔄 Load the Model and Predict the Test Data"
   ]
  },
  {
   "cell_type": "code",
   "execution_count": null,
   "metadata": {
    "colab": {
     "base_uri": "https://localhost:8080/",
     "height": 263
    },
    "id": "QKopQl1djl4X",
    "outputId": "dcd80be8-1304-4d2d-ea76-dd3fb48b391e"
   },
   "outputs": [],
   "source": [
    "model = joblib.load('predictive_maintainance_model.p')"
   ]
  },
  {
   "cell_type": "code",
   "execution_count": null,
   "metadata": {
    "colab": {
     "base_uri": "https://localhost:8080/"
    },
    "id": "dg88RMiOFXrQ",
    "outputId": "9979db56-845d-47a8-f39b-e2ea8e76b06a"
   },
   "outputs": [],
   "source": [
    "model_rf = joblib.load('rf_model.pkl')"
   ]
  },
  {
   "cell_type": "code",
   "execution_count": null,
   "metadata": {
    "id": "vh0mOP_tFUxa"
   },
   "outputs": [],
   "source": []
  },
  {
   "cell_type": "code",
   "execution_count": null,
   "metadata": {
    "id": "eBg0gFwsZiK_"
   },
   "outputs": [],
   "source": []
  },
  {
   "cell_type": "code",
   "execution_count": null,
   "metadata": {
    "colab": {
     "base_uri": "https://localhost:8080/",
     "height": 206
    },
    "id": "UzOkieW8jtCZ",
    "outputId": "30e81bf9-f00f-4dfd-d4cc-f7c152fd5dcf"
   },
   "outputs": [],
   "source": [
    "test_df.head()"
   ]
  },
  {
   "cell_type": "code",
   "execution_count": null,
   "metadata": {
    "id": "3PR4Fn_7wpBj"
   },
   "outputs": [],
   "source": []
  },
  {
   "cell_type": "code",
   "execution_count": null,
   "metadata": {
    "id": "UciDF63KwpiP"
   },
   "outputs": [],
   "source": [
    "def calculate_rul(df):\n",
    "    # Group by engine and find max cycles\n",
    "    max_cycles = df.groupby('unit_number')['time_cycles'].max().reset_index()\n",
    "    max_cycles.columns = ['unit_number', 'max_cycles']\n",
    "\n",
    "    # Merge and compute RUL\n",
    "    df = df.merge(max_cycles, on='unit_number', how='left')\n",
    "    df['RUL'] = df['max_cycles'] - df['time_cycles']\n",
    "    df.drop('max_cycles', axis=1, inplace=True)\n",
    "    return df\n",
    "\n",
    "# Apply to test_df (now RUL is estimated for ALL cycles)\n",
    "test_df = calculate_rul(test_df)"
   ]
  },
  {
   "cell_type": "code",
   "execution_count": null,
   "metadata": {
    "colab": {
     "base_uri": "https://localhost:8080/",
     "height": 206
    },
    "id": "cX-xCNDAwuLP",
    "outputId": "335b550e-62c4-4f43-c24b-080e4f0aa727"
   },
   "outputs": [],
   "source": [
    "test_df.head()"
   ]
  },
  {
   "cell_type": "markdown",
   "metadata": {
    "id": "I5q0aviNjy8O"
   },
   "source": [
    "[📝Check List](#Check-List)"
   ]
  },
  {
   "cell_type": "code",
   "execution_count": null,
   "metadata": {
    "id": "ITZuIjYdjzmF"
   },
   "outputs": [],
   "source": []
  }
 ],
 "metadata": {
  "colab": {
   "provenance": []
  },
  "kernelspec": {
   "display_name": "Python 3",
   "name": "python3"
  },
  "language_info": {
   "name": "python"
  }
 },
 "nbformat": 4,
 "nbformat_minor": 0
}
